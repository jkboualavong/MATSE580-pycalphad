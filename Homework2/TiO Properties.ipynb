{
 "cells": [
  {
   "cell_type": "markdown",
   "metadata": {},
   "source": [
    "# MATSE 580 Homework 1\n",
    "\n",
    "## Jonathan Boualavong\n",
    "\n",
    "Thermodynamics of a binary system: $Ti-O$\n",
    "\n",
    "Data from: A. Watson and T. Markus, Eds., “Ternary System Fe-Mo-Ti: Datasheet from Landolt-Börnstein - Group IV Physical Chemistry ·Volume 19C2: ``Ternary Steel Systems: Phase Diagrams and Phase Transition Data’’ in SpringerMaterials ( https://doi.org/10.1007/978-3-540-88154-4_20 ).” Springer-Verlag Berlin Heidelberg, doi: 10.1007/978-3-540-88154-4_20.\n",
    "\n",
    "Assignment:<br>\n",
    "        a). Calculate the heat capacity, entropy, enthalpy and Gibbs energy of each pure element as a function of temperature.<br>\n",
    "        b). Calculate the phase fractions as a function of temperature for the alloy with 50/50 of each element.<br>\n",
    "        c). Calculate the enthalpy of formation as a function of composition at 298K.<br>\n",
    "        d). Calculate the enthalpy of mixing in the liquid phase at a high temperature of your choice.<br>\n",
    "        e). Calculate the binary phase diagram and label all phase regions of one, two, and three phases in equilibrium."
   ]
  },
  {
   "cell_type": "code",
   "execution_count": 50,
   "metadata": {},
   "outputs": [
    {
     "name": "stdout",
     "output_type": "stream",
     "text": [
      "['/-', 'O', 'TI', 'VA']\n",
      "['A_TIO', 'BCC_A2', 'FCC_A1', 'GAS', 'HCP_A3', 'I_LIQUID', 'TI2O3', 'TI3O2', 'TI3O5', 'TIO2', 'TIOX']\n"
     ]
    }
   ],
   "source": [
    "# Set up the database and primary variables\n",
    "\n",
    "# Load in the database file\n",
    "from pycalphad import Database\n",
    "db = Database(\"TiO_WatsonMarkus.tdb\")\n",
    "print(sorted(db.elements))\n",
    "print(sorted(db.phases))\n",
    "\n",
    "# Composition: copper, oxygen, vacancies\n",
    "#comp = sorted(db.elements)\n",
    "# Relevant phases\n",
    "#phases = sorted(db.phases)"
   ]
  },
  {
   "cell_type": "markdown",
   "metadata": {},
   "source": [
    "### Part a) Pure element properties\n",
    "Heat capacity, entropy, enthalpy, and Gibbs energy as a function of temperature."
   ]
  },
  {
   "cell_type": "code",
   "execution_count": 48,
   "metadata": {},
   "outputs": [
    {
     "data": {
      "image/png": "[encoded data removed]",
      "text/plain": [
       "<Figure size 432x288 with 1 Axes>"
      ]
     },
     "metadata": {
      "needs_background": "light"
     },
     "output_type": "display_data"
    },
    {
     "name": "stdout",
     "output_type": "stream",
     "text": [
      "(1, 121, 1, 1)\n",
      "(121,)\n",
      "(10003, 121, 1, 1)\n",
      "(121, 10003)\n"
     ]
    }
   ],
   "source": [
    "import matplotlib.pyplot as plt\n",
    "import numpy as np\n",
    "from pycalphad import Database, calculate, equilibrium, variables as v\n",
    "#from PT import PT_phase_diagram\n",
    "\n",
    "#Cu_FCC_GM = calculate(db, ['CU', 'VA'], 'FCC_A1', P = 101325, T = (298, 1500, 10), N = 1)\n",
    "#Cu_liq_GM = calculate(db, ['CU', 'VA'], 'IONIC_LIQ', P = 101325, T = (298, 1500, 10), N = 1)\n",
    "\n",
    "plt.plot(Cu_FCC_GM.T, Cu_FCC_GM.GM.squeeze(), label='FCC_A1')\n",
    "#plt.plot(Cu_liq_GM.T[0,:,], Cu_liq_GM.GM.squeeze()[:,0], label='Liquid')\n",
    "#plt.legend()\n",
    "plt.show()\n",
    "\n",
    "print(Cu_FCC_GM.GM.T.shape)\n",
    "print(Cu_FCC_GM.GM.squeeze().shape)\n",
    "\n",
    "\n",
    "print(Cu_liq_GM.GM.T.shape)\n",
    "print(Cu_liq_GM.GM.squeeze().shape)\n"
   ]
  },
  {
   "cell_type": "markdown",
   "metadata": {},
   "source": [
    "### Part b) Equimolar mixture phase fractions"
   ]
  },
  {
   "cell_type": "code",
   "execution_count": null,
   "metadata": {},
   "outputs": [],
   "source": []
  },
  {
   "cell_type": "markdown",
   "metadata": {},
   "source": [
    "### Part c) Enthalpy of formation"
   ]
  },
  {
   "cell_type": "code",
   "execution_count": null,
   "metadata": {},
   "outputs": [],
   "source": []
  },
  {
   "cell_type": "markdown",
   "metadata": {},
   "source": [
    "### Part d) Enthalpy of mixing, liquid phase"
   ]
  },
  {
   "cell_type": "code",
   "execution_count": null,
   "metadata": {},
   "outputs": [],
   "source": []
  },
  {
   "cell_type": "markdown",
   "metadata": {},
   "source": [
    "### Part e) Binary phase diagram"
   ]
  },
  {
   "cell_type": "code",
   "execution_count": null,
   "metadata": {},
   "outputs": [],
   "source": []
  }
 ],
 "metadata": {
  "kernelspec": {
   "display_name": "Python 3",
   "language": "python",
   "name": "python3"
  },
  "language_info": {
   "codemirror_mode": {
    "name": "ipython",
    "version": 3
   },
   "file_extension": ".py",
   "mimetype": "text/x-python",
   "name": "python",
   "nbconvert_exporter": "python",
   "pygments_lexer": "ipython3",
   "version": "3.7.8"
  }
 },
 "nbformat": 4,
 "nbformat_minor": 4
}
